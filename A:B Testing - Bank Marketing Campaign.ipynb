{
 "cells": [
  {
   "cell_type": "markdown",
   "metadata": {},
   "source": [
    "# Bank Marketing Campaign - A/B Testing Project \n"
   ]
  },
  {
   "cell_type": "markdown",
   "metadata": {},
   "source": [
    "\n",
    "\n",
    "\n",
    "### Project Overview\n",
    "\n",
    "In this project, we analyze a dataset from a Portuguese bank's telemarketing campaigns, focusing on predicting customer subscription to term deposits. Term deposits are key revenue sources, and effective outreach methods are essential given the high costs of telephonic marketing. Using data collected from previous campaigns, we aim to identify factors that influence customer subscription rates, with particular attention to the impact of the contact channel (telephone vs. cellular) on conversion rates. By understanding these factors, the bank can refine its targeting strategy, optimize resources, and improve campaign effectiveness. \n",
    "\n",
    "This analysis involves hypothesis testing to assess the influence of contact methods, call durations, and other factors on customer subscription behavior, ultimately providing actionable insights for future marketing efforts.\n"
   ]
  },
  {
   "cell_type": "markdown",
   "metadata": {},
   "source": [
    "<h2 id=\"import_data\">1. Import Libraries and Load Data </h2>\n"
   ]
  },
  {
   "cell_type": "markdown",
   "metadata": {},
   "source": [
    "This section will import necessary libraries and load the dataset."
   ]
  },
  {
   "cell_type": "code",
   "execution_count": 2,
   "metadata": {},
   "outputs": [],
   "source": [
    "import warnings\n",
    "\n",
    "# Suppress all warnings\n",
    "warnings.filterwarnings(\"ignore\")"
   ]
  },
  {
   "cell_type": "code",
   "execution_count": 4,
   "metadata": {},
   "outputs": [],
   "source": [
    "# Import necessary libraries\n",
    "import pandas as pd\n",
    "import numpy as np\n",
    "import matplotlib.pyplot as plt\n",
    "import seaborn as sns\n",
    "\n",
    "from scipy import stats\n",
    "from statsmodels.stats.proportion import proportions_ztest"
   ]
  },
  {
   "cell_type": "code",
   "execution_count": 6,
   "metadata": {},
   "outputs": [
    {
     "data": {
      "text/html": [
       "<div>\n",
       "<style scoped>\n",
       "    .dataframe tbody tr th:only-of-type {\n",
       "        vertical-align: middle;\n",
       "    }\n",
       "\n",
       "    .dataframe tbody tr th {\n",
       "        vertical-align: top;\n",
       "    }\n",
       "\n",
       "    .dataframe thead th {\n",
       "        text-align: right;\n",
       "    }\n",
       "</style>\n",
       "<table border=\"1\" class=\"dataframe\">\n",
       "  <thead>\n",
       "    <tr style=\"text-align: right;\">\n",
       "      <th></th>\n",
       "      <th>age</th>\n",
       "      <th>job</th>\n",
       "      <th>marital</th>\n",
       "      <th>education</th>\n",
       "      <th>default</th>\n",
       "      <th>balance</th>\n",
       "      <th>housing</th>\n",
       "      <th>loan</th>\n",
       "      <th>contact</th>\n",
       "      <th>day</th>\n",
       "      <th>month</th>\n",
       "      <th>duration</th>\n",
       "      <th>campaign</th>\n",
       "      <th>pdays</th>\n",
       "      <th>previous</th>\n",
       "      <th>poutcome</th>\n",
       "      <th>y</th>\n",
       "    </tr>\n",
       "  </thead>\n",
       "  <tbody>\n",
       "    <tr>\n",
       "      <th>0</th>\n",
       "      <td>27</td>\n",
       "      <td>management</td>\n",
       "      <td>single</td>\n",
       "      <td>secondary</td>\n",
       "      <td>no</td>\n",
       "      <td>35</td>\n",
       "      <td>no</td>\n",
       "      <td>no</td>\n",
       "      <td>cellular</td>\n",
       "      <td>4</td>\n",
       "      <td>jul</td>\n",
       "      <td>255</td>\n",
       "      <td>1</td>\n",
       "      <td>-1</td>\n",
       "      <td>0</td>\n",
       "      <td>unknown</td>\n",
       "      <td>no</td>\n",
       "    </tr>\n",
       "    <tr>\n",
       "      <th>1</th>\n",
       "      <td>54</td>\n",
       "      <td>blue-collar</td>\n",
       "      <td>married</td>\n",
       "      <td>primary</td>\n",
       "      <td>no</td>\n",
       "      <td>466</td>\n",
       "      <td>no</td>\n",
       "      <td>no</td>\n",
       "      <td>cellular</td>\n",
       "      <td>4</td>\n",
       "      <td>jul</td>\n",
       "      <td>297</td>\n",
       "      <td>1</td>\n",
       "      <td>-1</td>\n",
       "      <td>0</td>\n",
       "      <td>unknown</td>\n",
       "      <td>no</td>\n",
       "    </tr>\n",
       "    <tr>\n",
       "      <th>2</th>\n",
       "      <td>43</td>\n",
       "      <td>blue-collar</td>\n",
       "      <td>married</td>\n",
       "      <td>secondary</td>\n",
       "      <td>no</td>\n",
       "      <td>105</td>\n",
       "      <td>no</td>\n",
       "      <td>yes</td>\n",
       "      <td>cellular</td>\n",
       "      <td>4</td>\n",
       "      <td>jul</td>\n",
       "      <td>668</td>\n",
       "      <td>2</td>\n",
       "      <td>-1</td>\n",
       "      <td>0</td>\n",
       "      <td>unknown</td>\n",
       "      <td>no</td>\n",
       "    </tr>\n",
       "    <tr>\n",
       "      <th>3</th>\n",
       "      <td>31</td>\n",
       "      <td>technician</td>\n",
       "      <td>single</td>\n",
       "      <td>secondary</td>\n",
       "      <td>no</td>\n",
       "      <td>19</td>\n",
       "      <td>no</td>\n",
       "      <td>no</td>\n",
       "      <td>telephone</td>\n",
       "      <td>4</td>\n",
       "      <td>jul</td>\n",
       "      <td>65</td>\n",
       "      <td>2</td>\n",
       "      <td>-1</td>\n",
       "      <td>0</td>\n",
       "      <td>unknown</td>\n",
       "      <td>no</td>\n",
       "    </tr>\n",
       "    <tr>\n",
       "      <th>4</th>\n",
       "      <td>27</td>\n",
       "      <td>technician</td>\n",
       "      <td>single</td>\n",
       "      <td>secondary</td>\n",
       "      <td>no</td>\n",
       "      <td>126</td>\n",
       "      <td>yes</td>\n",
       "      <td>yes</td>\n",
       "      <td>cellular</td>\n",
       "      <td>4</td>\n",
       "      <td>jul</td>\n",
       "      <td>436</td>\n",
       "      <td>4</td>\n",
       "      <td>-1</td>\n",
       "      <td>0</td>\n",
       "      <td>unknown</td>\n",
       "      <td>no</td>\n",
       "    </tr>\n",
       "  </tbody>\n",
       "</table>\n",
       "</div>"
      ],
      "text/plain": [
       "   age          job  marital  education default  balance housing loan  \\\n",
       "0   27   management   single  secondary      no       35      no   no   \n",
       "1   54  blue-collar  married    primary      no      466      no   no   \n",
       "2   43  blue-collar  married  secondary      no      105      no  yes   \n",
       "3   31   technician   single  secondary      no       19      no   no   \n",
       "4   27   technician   single  secondary      no      126     yes  yes   \n",
       "\n",
       "     contact  day month  duration  campaign  pdays  previous poutcome   y  \n",
       "0   cellular    4   jul       255         1     -1         0  unknown  no  \n",
       "1   cellular    4   jul       297         1     -1         0  unknown  no  \n",
       "2   cellular    4   jul       668         2     -1         0  unknown  no  \n",
       "3  telephone    4   jul        65         2     -1         0  unknown  no  \n",
       "4   cellular    4   jul       436         4     -1         0  unknown  no  "
      ]
     },
     "execution_count": 6,
     "metadata": {},
     "output_type": "execute_result"
    }
   ],
   "source": [
    "# Load the dataset\n",
    "data = pd.read_csv('/Users/nando/Desktop/porfolio/Cleaned_train.csv')\n",
    "\n",
    "# Preview the data\n",
    "data.head()"
   ]
  },
  {
   "cell_type": "markdown",
   "metadata": {},
   "source": [
    "<h2 id=\"pattern_visualization\">2. Data Exploration </h2>"
   ]
  },
  {
   "cell_type": "markdown",
   "metadata": {},
   "source": [
    "Analyze the data structure, check for missing values, and get an overview of key statistics."
   ]
  },
  {
   "cell_type": "code",
   "execution_count": 8,
   "metadata": {},
   "outputs": [
    {
     "name": "stdout",
     "output_type": "stream",
     "text": [
      "<class 'pandas.core.frame.DataFrame'>\n",
      "RangeIndex: 32191 entries, 0 to 32190\n",
      "Data columns (total 17 columns):\n",
      " #   Column     Non-Null Count  Dtype \n",
      "---  ------     --------------  ----- \n",
      " 0   age        32191 non-null  int64 \n",
      " 1   job        32191 non-null  object\n",
      " 2   marital    32191 non-null  object\n",
      " 3   education  32191 non-null  object\n",
      " 4   default    32191 non-null  object\n",
      " 5   balance    32191 non-null  int64 \n",
      " 6   housing    32191 non-null  object\n",
      " 7   loan       32191 non-null  object\n",
      " 8   contact    32191 non-null  object\n",
      " 9   day        32191 non-null  int64 \n",
      " 10  month      32191 non-null  object\n",
      " 11  duration   32191 non-null  int64 \n",
      " 12  campaign   32191 non-null  int64 \n",
      " 13  pdays      32191 non-null  int64 \n",
      " 14  previous   32191 non-null  int64 \n",
      " 15  poutcome   32191 non-null  object\n",
      " 16  y          32191 non-null  object\n",
      "dtypes: int64(7), object(10)\n",
      "memory usage: 4.2+ MB\n"
     ]
    }
   ],
   "source": [
    "# Basic info about the dataset\n",
    "data.info()"
   ]
  },
  {
   "cell_type": "code",
   "execution_count": 10,
   "metadata": {},
   "outputs": [
    {
     "data": {
      "text/html": [
       "<div>\n",
       "<style scoped>\n",
       "    .dataframe tbody tr th:only-of-type {\n",
       "        vertical-align: middle;\n",
       "    }\n",
       "\n",
       "    .dataframe tbody tr th {\n",
       "        vertical-align: top;\n",
       "    }\n",
       "\n",
       "    .dataframe thead th {\n",
       "        text-align: right;\n",
       "    }\n",
       "</style>\n",
       "<table border=\"1\" class=\"dataframe\">\n",
       "  <thead>\n",
       "    <tr style=\"text-align: right;\">\n",
       "      <th></th>\n",
       "      <th>age</th>\n",
       "      <th>balance</th>\n",
       "      <th>day</th>\n",
       "      <th>duration</th>\n",
       "      <th>campaign</th>\n",
       "      <th>pdays</th>\n",
       "      <th>previous</th>\n",
       "    </tr>\n",
       "  </thead>\n",
       "  <tbody>\n",
       "    <tr>\n",
       "      <th>count</th>\n",
       "      <td>32191.000000</td>\n",
       "      <td>32191.000000</td>\n",
       "      <td>32191.000000</td>\n",
       "      <td>32191.000000</td>\n",
       "      <td>32191.000000</td>\n",
       "      <td>32191.000000</td>\n",
       "      <td>32191.000000</td>\n",
       "    </tr>\n",
       "    <tr>\n",
       "      <th>mean</th>\n",
       "      <td>41.072163</td>\n",
       "      <td>1434.557982</td>\n",
       "      <td>15.986922</td>\n",
       "      <td>260.518095</td>\n",
       "      <td>2.754279</td>\n",
       "      <td>55.930726</td>\n",
       "      <td>0.806157</td>\n",
       "    </tr>\n",
       "    <tr>\n",
       "      <th>std</th>\n",
       "      <td>11.057405</td>\n",
       "      <td>3191.590608</td>\n",
       "      <td>8.261942</td>\n",
       "      <td>257.138529</td>\n",
       "      <td>2.980085</td>\n",
       "      <td>112.623239</td>\n",
       "      <td>2.678185</td>\n",
       "    </tr>\n",
       "    <tr>\n",
       "      <th>min</th>\n",
       "      <td>18.000000</td>\n",
       "      <td>-8019.000000</td>\n",
       "      <td>1.000000</td>\n",
       "      <td>0.000000</td>\n",
       "      <td>1.000000</td>\n",
       "      <td>-1.000000</td>\n",
       "      <td>0.000000</td>\n",
       "    </tr>\n",
       "    <tr>\n",
       "      <th>25%</th>\n",
       "      <td>32.000000</td>\n",
       "      <td>82.000000</td>\n",
       "      <td>9.000000</td>\n",
       "      <td>104.000000</td>\n",
       "      <td>1.000000</td>\n",
       "      <td>-1.000000</td>\n",
       "      <td>0.000000</td>\n",
       "    </tr>\n",
       "    <tr>\n",
       "      <th>50%</th>\n",
       "      <td>39.000000</td>\n",
       "      <td>478.000000</td>\n",
       "      <td>16.000000</td>\n",
       "      <td>181.000000</td>\n",
       "      <td>2.000000</td>\n",
       "      <td>-1.000000</td>\n",
       "      <td>0.000000</td>\n",
       "    </tr>\n",
       "    <tr>\n",
       "      <th>75%</th>\n",
       "      <td>49.000000</td>\n",
       "      <td>1515.000000</td>\n",
       "      <td>21.000000</td>\n",
       "      <td>322.000000</td>\n",
       "      <td>3.000000</td>\n",
       "      <td>13.500000</td>\n",
       "      <td>1.000000</td>\n",
       "    </tr>\n",
       "    <tr>\n",
       "      <th>max</th>\n",
       "      <td>95.000000</td>\n",
       "      <td>102127.000000</td>\n",
       "      <td>31.000000</td>\n",
       "      <td>4918.000000</td>\n",
       "      <td>50.000000</td>\n",
       "      <td>871.000000</td>\n",
       "      <td>275.000000</td>\n",
       "    </tr>\n",
       "  </tbody>\n",
       "</table>\n",
       "</div>"
      ],
      "text/plain": [
       "                age        balance           day      duration      campaign  \\\n",
       "count  32191.000000   32191.000000  32191.000000  32191.000000  32191.000000   \n",
       "mean      41.072163    1434.557982     15.986922    260.518095      2.754279   \n",
       "std       11.057405    3191.590608      8.261942    257.138529      2.980085   \n",
       "min       18.000000   -8019.000000      1.000000      0.000000      1.000000   \n",
       "25%       32.000000      82.000000      9.000000    104.000000      1.000000   \n",
       "50%       39.000000     478.000000     16.000000    181.000000      2.000000   \n",
       "75%       49.000000    1515.000000     21.000000    322.000000      3.000000   \n",
       "max       95.000000  102127.000000     31.000000   4918.000000     50.000000   \n",
       "\n",
       "              pdays      previous  \n",
       "count  32191.000000  32191.000000  \n",
       "mean      55.930726      0.806157  \n",
       "std      112.623239      2.678185  \n",
       "min       -1.000000      0.000000  \n",
       "25%       -1.000000      0.000000  \n",
       "50%       -1.000000      0.000000  \n",
       "75%       13.500000      1.000000  \n",
       "max      871.000000    275.000000  "
      ]
     },
     "execution_count": 10,
     "metadata": {},
     "output_type": "execute_result"
    }
   ],
   "source": [
    "# Statistical summary\n",
    "data.describe()"
   ]
  },
  {
   "cell_type": "markdown",
   "metadata": {},
   "source": [
    "<h2 id=\"pattern_visualization\">3. Data preparation </h2>"
   ]
  },
  {
   "cell_type": "markdown",
   "metadata": {},
   "source": [
    " Encode target variables, handle categorical variables, and prepare data for analysis."
   ]
  },
  {
   "cell_type": "code",
   "execution_count": 12,
   "metadata": {},
   "outputs": [
    {
     "data": {
      "text/html": [
       "<div>\n",
       "<style scoped>\n",
       "    .dataframe tbody tr th:only-of-type {\n",
       "        vertical-align: middle;\n",
       "    }\n",
       "\n",
       "    .dataframe tbody tr th {\n",
       "        vertical-align: top;\n",
       "    }\n",
       "\n",
       "    .dataframe thead th {\n",
       "        text-align: right;\n",
       "    }\n",
       "</style>\n",
       "<table border=\"1\" class=\"dataframe\">\n",
       "  <thead>\n",
       "    <tr style=\"text-align: right;\">\n",
       "      <th></th>\n",
       "      <th>age</th>\n",
       "      <th>job</th>\n",
       "      <th>marital</th>\n",
       "      <th>education</th>\n",
       "      <th>default</th>\n",
       "      <th>balance</th>\n",
       "      <th>housing</th>\n",
       "      <th>loan</th>\n",
       "      <th>contact</th>\n",
       "      <th>day</th>\n",
       "      <th>month</th>\n",
       "      <th>duration</th>\n",
       "      <th>campaign</th>\n",
       "      <th>pdays</th>\n",
       "      <th>previous</th>\n",
       "      <th>poutcome</th>\n",
       "      <th>y</th>\n",
       "    </tr>\n",
       "  </thead>\n",
       "  <tbody>\n",
       "    <tr>\n",
       "      <th>0</th>\n",
       "      <td>27</td>\n",
       "      <td>management</td>\n",
       "      <td>single</td>\n",
       "      <td>secondary</td>\n",
       "      <td>no</td>\n",
       "      <td>35</td>\n",
       "      <td>no</td>\n",
       "      <td>no</td>\n",
       "      <td>cellular</td>\n",
       "      <td>4</td>\n",
       "      <td>jul</td>\n",
       "      <td>255</td>\n",
       "      <td>1</td>\n",
       "      <td>-1</td>\n",
       "      <td>0</td>\n",
       "      <td>unknown</td>\n",
       "      <td>0</td>\n",
       "    </tr>\n",
       "    <tr>\n",
       "      <th>1</th>\n",
       "      <td>54</td>\n",
       "      <td>blue-collar</td>\n",
       "      <td>married</td>\n",
       "      <td>primary</td>\n",
       "      <td>no</td>\n",
       "      <td>466</td>\n",
       "      <td>no</td>\n",
       "      <td>no</td>\n",
       "      <td>cellular</td>\n",
       "      <td>4</td>\n",
       "      <td>jul</td>\n",
       "      <td>297</td>\n",
       "      <td>1</td>\n",
       "      <td>-1</td>\n",
       "      <td>0</td>\n",
       "      <td>unknown</td>\n",
       "      <td>0</td>\n",
       "    </tr>\n",
       "    <tr>\n",
       "      <th>2</th>\n",
       "      <td>43</td>\n",
       "      <td>blue-collar</td>\n",
       "      <td>married</td>\n",
       "      <td>secondary</td>\n",
       "      <td>no</td>\n",
       "      <td>105</td>\n",
       "      <td>no</td>\n",
       "      <td>yes</td>\n",
       "      <td>cellular</td>\n",
       "      <td>4</td>\n",
       "      <td>jul</td>\n",
       "      <td>668</td>\n",
       "      <td>2</td>\n",
       "      <td>-1</td>\n",
       "      <td>0</td>\n",
       "      <td>unknown</td>\n",
       "      <td>0</td>\n",
       "    </tr>\n",
       "    <tr>\n",
       "      <th>3</th>\n",
       "      <td>31</td>\n",
       "      <td>technician</td>\n",
       "      <td>single</td>\n",
       "      <td>secondary</td>\n",
       "      <td>no</td>\n",
       "      <td>19</td>\n",
       "      <td>no</td>\n",
       "      <td>no</td>\n",
       "      <td>telephone</td>\n",
       "      <td>4</td>\n",
       "      <td>jul</td>\n",
       "      <td>65</td>\n",
       "      <td>2</td>\n",
       "      <td>-1</td>\n",
       "      <td>0</td>\n",
       "      <td>unknown</td>\n",
       "      <td>0</td>\n",
       "    </tr>\n",
       "    <tr>\n",
       "      <th>4</th>\n",
       "      <td>27</td>\n",
       "      <td>technician</td>\n",
       "      <td>single</td>\n",
       "      <td>secondary</td>\n",
       "      <td>no</td>\n",
       "      <td>126</td>\n",
       "      <td>yes</td>\n",
       "      <td>yes</td>\n",
       "      <td>cellular</td>\n",
       "      <td>4</td>\n",
       "      <td>jul</td>\n",
       "      <td>436</td>\n",
       "      <td>4</td>\n",
       "      <td>-1</td>\n",
       "      <td>0</td>\n",
       "      <td>unknown</td>\n",
       "      <td>0</td>\n",
       "    </tr>\n",
       "  </tbody>\n",
       "</table>\n",
       "</div>"
      ],
      "text/plain": [
       "   age          job  marital  education default  balance housing loan  \\\n",
       "0   27   management   single  secondary      no       35      no   no   \n",
       "1   54  blue-collar  married    primary      no      466      no   no   \n",
       "2   43  blue-collar  married  secondary      no      105      no  yes   \n",
       "3   31   technician   single  secondary      no       19      no   no   \n",
       "4   27   technician   single  secondary      no      126     yes  yes   \n",
       "\n",
       "     contact  day month  duration  campaign  pdays  previous poutcome  y  \n",
       "0   cellular    4   jul       255         1     -1         0  unknown  0  \n",
       "1   cellular    4   jul       297         1     -1         0  unknown  0  \n",
       "2   cellular    4   jul       668         2     -1         0  unknown  0  \n",
       "3  telephone    4   jul        65         2     -1         0  unknown  0  \n",
       "4   cellular    4   jul       436         4     -1         0  unknown  0  "
      ]
     },
     "execution_count": 12,
     "metadata": {},
     "output_type": "execute_result"
    }
   ],
   "source": [
    "# Encode the target variable 'y' as binary\n",
    "data['y'] = data['y'].map({'yes': 1, 'no': 0})\n",
    "\n",
    "# Verify cleaned data\n",
    "data.head()"
   ]
  },
  {
   "cell_type": "markdown",
   "metadata": {},
   "source": [
    "<h2 id=\"pattern_visualization\">4.  Exploratory Data Analysis (EDA) </h2>"
   ]
  },
  {
   "cell_type": "markdown",
   "metadata": {},
   "source": [
    "<b> a) Contact Method Analysis </b>\n",
    "\n",
    "Visualize the effectiveness of contact type on subscriptions."
   ]
  },
  {
   "cell_type": "code",
   "execution_count": 14,
   "metadata": {},
   "outputs": [
    {
     "data": {
      "image/png": "[encoded data removed]",
      "text/plain": [
       "<Figure size 800x500 with 1 Axes>"
      ]
     },
     "metadata": {},
     "output_type": "display_data"
    }
   ],
   "source": [
    "plt.figure(figsize=(8, 5))\n",
    "sns.countplot(x='contact', hue='y', data=data, palette=\"Set2\")\n",
    "plt.title(\"Subscription by Contact Method\")\n",
    "plt.xlabel(\"Contact Method\")\n",
    "plt.ylabel(\"Count\")\n",
    "plt.legend(title=\"Subscribed\")\n",
    "plt.show()"
   ]
  },
  {
   "cell_type": "markdown",
   "metadata": {},
   "source": [
    "<b> b) Subscription Rate by Age </b>\n",
    "\n",
    "Visualize the relationship between age and the likelihood of subscribing to a term deposit."
   ]
  },
  {
   "cell_type": "code",
   "execution_count": 18,
   "metadata": {},
   "outputs": [
    {
     "name": "stdout",
     "output_type": "stream",
     "text": [
      "               0     1\n",
      "age_group             \n",
      "0-19          29    18\n",
      "20-29       2879   825\n",
      "30-39      11338  1706\n",
      "40-49       6995   920\n",
      "50-59       5189   699\n",
      "60-69        683   356\n",
      "70-79        244   180\n",
      "80-89         73    48\n",
      "90-100         2     7\n"
     ]
    },
    {
     "data": {
      "image/png": "[encoded data removed]",
      "text/plain": [
       "<Figure size 800x500 with 1 Axes>"
      ]
     },
     "metadata": {},
     "output_type": "display_data"
    }
   ],
   "source": [
    "# Define age groups (example ranges)\n",
    "bins = [0, 20, 30, 40, 50, 60, 70, 80, 90, 100]\n",
    "labels = ['0-19', '20-29', '30-39', '40-49', '50-59', '60-69', '70-79', '80-89', '90-100']\n",
    "data['age_group'] = pd.cut(data['age'], bins=bins, labels=labels, right=False)\n",
    "\n",
    "# Calculate subscription counts by age group\n",
    "age_group_counts = data.groupby('age_group')['y'].value_counts().unstack(fill_value=0)\n",
    "\n",
    "# Rename the columns to use integers\n",
    "age_group_counts.columns = [0, 1]  \n",
    "\n",
    "# Display the counts DataFrame to check its structure\n",
    "print(age_group_counts)\n",
    "\n",
    "# Create a countplot for subscription by age group\n",
    "plt.figure(figsize=(8, 5))\n",
    "sns.countplot(x='age_group', hue='y', data=data, palette=\"Set2\")\n",
    "plt.title(\"Subscription by Age Group\")\n",
    "plt.xlabel(\"Age Group\")\n",
    "plt.ylabel(\"Count\")\n",
    "plt.legend(title=\"Subscribed\", labels=['0', '1'])  \n",
    "plt.show()"
   ]
  },
  {
   "cell_type": "markdown",
   "metadata": {},
   "source": [
    "<b> c) Subscription Rate by Education Level </b>\n",
    "\n",
    "Examine how different education levels impact subscription rates"
   ]
  },
  {
   "cell_type": "code",
   "execution_count": 24,
   "metadata": {},
   "outputs": [
    {
     "data": {
      "image/png": "[encoded data removed]",
      "text/plain": [
       "<Figure size 800x500 with 1 Axes>"
      ]
     },
     "metadata": {},
     "output_type": "display_data"
    }
   ],
   "source": [
    "plt.figure(figsize=(8, 5))\n",
    "sns.countplot(x='education', hue='y', data=data, palette=\"Set2\")\n",
    "plt.title(\"Subscription by Education Level\")\n",
    "plt.xlabel(\"Education Level\")\n",
    "plt.ylabel(\"Count\")\n",
    "plt.legend(title=\"Subscribed\")\n",
    "plt.show()"
   ]
  },
  {
   "cell_type": "markdown",
   "metadata": {},
   "source": [
    "<b> d) Subscription Rate by Job Type </b>\n",
    "\n",
    "Evaluate subscription tendencies across various job categories."
   ]
  },
  {
   "cell_type": "code",
   "execution_count": 78,
   "metadata": {},
   "outputs": [
    {
     "data": {
      "image/png": "[encoded data removed]",
      "text/plain": [
       "<Figure size 1200x600 with 1 Axes>"
      ]
     },
     "metadata": {},
     "output_type": "display_data"
    }
   ],
   "source": [
    "plt.figure(figsize=(12, 6))\n",
    "sns.countplot(x='job', hue='y', data=data, palette=\"Set2\")\n",
    "plt.title(\"Subscription by Job Type\")\n",
    "plt.xlabel(\"Job\")\n",
    "plt.ylabel(\"Count\")\n",
    "plt.xticks(rotation=45)\n",
    "plt.legend(title=\"Subscribed\")\n",
    "plt.show()"
   ]
  },
  {
   "cell_type": "markdown",
   "metadata": {},
   "source": [
    "<b> e) Subscription Rate by Marital Status </b>\n",
    "\n",
    "Explore how marital status correlates with term deposit subscriptions."
   ]
  },
  {
   "cell_type": "code",
   "execution_count": 83,
   "metadata": {},
   "outputs": [
    {
     "data": {
      "image/png": "[encoded data removed]",
      "text/plain": [
       "<Figure size 800x500 with 1 Axes>"
      ]
     },
     "metadata": {},
     "output_type": "display_data"
    }
   ],
   "source": [
    "plt.figure(figsize=(8, 5))\n",
    "sns.countplot(x='marital', hue='y', data=data, palette=\"Set2\")\n",
    "plt.title(\"Subscription by Marital Status\")\n",
    "plt.xlabel(\"Marital Status\")\n",
    "plt.ylabel(\"Count\")\n",
    "plt.legend(title=\"Subscribed\")\n",
    "plt.show()"
   ]
  },
  {
   "cell_type": "markdown",
   "metadata": {},
   "source": [
    "<h2 id=\"pattern_visualization\">5.  Conducting A/B Testing </h2>"
   ]
  },
  {
   "cell_type": "markdown",
   "metadata": {},
   "source": [
    "Let's first formulate the hypotheses for the A/B testing analysis.\n",
    "\n",
    "* <b>Null Hypothesis (H0)</b>: There is no significant difference in the conversion rates between customers contacted via telephone and those contacted via cellular.\n",
    "\n",
    "* <b>Alternative Hypothesis (H1)</b>: There is a significant difference in the conversion rates between customers contacted via telephone and those contacted via cellular."
   ]
  },
  {
   "cell_type": "markdown",
   "metadata": {},
   "source": [
    " Create A/B testing groups based on the \"contact\" feature (telephone vs. cellular)."
   ]
  },
  {
   "cell_type": "code",
   "execution_count": 19,
   "metadata": {},
   "outputs": [
    {
     "name": "stdout",
     "output_type": "stream",
     "text": [
      "Size of Group A (telephone): 2906\n",
      "Size of Group B (cellular): 29285\n"
     ]
    }
   ],
   "source": [
    "# Define groups based on contact channel without encoding\n",
    "group_A = data[data['contact'] == 'telephone']\n",
    "group_B = data[data['contact'] == 'cellular']\n",
    "\n",
    "# Check the size of each group\n",
    "print(\"Size of Group A (telephone):\", len(group_A))\n",
    "print(\"Size of Group B (cellular):\", len(group_B))"
   ]
  },
  {
   "cell_type": "markdown",
   "metadata": {},
   "source": [
    "Now calculate the conversion rate for each group to see if there are differences between the two contact methods."
   ]
  },
  {
   "cell_type": "code",
   "execution_count": 21,
   "metadata": {},
   "outputs": [
    {
     "name": "stdout",
     "output_type": "stream",
     "text": [
      "Conversion rate for Group A (telephone): 0.13420509291121818\n",
      "Conversion rate for Group B (cellular): 0.14918900460986853\n"
     ]
    }
   ],
   "source": [
    "# Conversion rate for each group\n",
    "conversion_A = group_A['y'].mean()\n",
    "conversion_B = group_B['y'].mean()\n",
    "\n",
    "print(\"Conversion rate for Group A (telephone):\", conversion_A)\n",
    "print(\"Conversion rate for Group B (cellular):\", conversion_B)"
   ]
  },
  {
   "cell_type": "markdown",
   "metadata": {},
   "source": [
    "<b> a) Significance Testing (Z-test) </b>\n",
    "\n",
    "we perform a Z-test to see if the difference in conversion rates between the two groups is statistically significant."
   ]
  },
  {
   "cell_type": "code",
   "execution_count": 23,
   "metadata": {},
   "outputs": [
    {
     "name": "stdout",
     "output_type": "stream",
     "text": [
      "Z-statistic: -2.170582362740657\n",
      "P-value: 0.029962756506797035\n",
      "The difference is statistically significant. The contact channel affects subscription probability.\n"
     ]
    }
   ],
   "source": [
    "# Count of successes and total observations for each group\n",
    "count_A, count_B = len(group_A), len(group_B)\n",
    "success_A, success_B = group_A['y'].sum(), group_B['y'].sum()\n",
    "\n",
    "# Z-test for proportions\n",
    "z_stat, p_value = proportions_ztest([success_A, success_B], [count_A, count_B])\n",
    "\n",
    "print(\"Z-statistic:\", z_stat)\n",
    "print(\"P-value:\", p_value)\n",
    "\n",
    "# Define the significance level\n",
    "alpha = 0.05\n",
    "\n",
    "# Interpretation of results\n",
    "if p_value < alpha:\n",
    "    print(\"The difference is statistically significant. The contact channel affects subscription probability.\")\n",
    "else:\n",
    "    print(\"The difference is not statistically significant.\")"
   ]
  },
  {
   "cell_type": "markdown",
   "metadata": {},
   "source": [
    "<b> conclusion 1 </b>\n",
    "\n",
    "With a p-value of approximately 0.03, which is less than the standard significance level of 0.05, we reject the null hypothesis. This result indicates a statistically significant difference in subscription rates between the telephone and cellular contact methods."
   ]
  },
  {
   "cell_type": "markdown",
   "metadata": {},
   "source": [
    "<b> b) Average Call Duration Comparison </b>\n",
    "\n",
    "Compare the average call duration between the two groups, testing for differences in call duration."
   ]
  },
  {
   "cell_type": "code",
   "execution_count": 25,
   "metadata": {},
   "outputs": [
    {
     "name": "stdout",
     "output_type": "stream",
     "text": [
      "Average call duration for Group A (telephone): 235.36613902271162\n",
      "Average call duration for Group B (cellular): 263.01396619429744\n",
      "T-statistic: -5.530909584550042\n",
      "P-value for duration difference: 3.210473628808453e-08\n",
      "The difference in call duration is statistically significant.\n"
     ]
    }
   ],
   "source": [
    "# Calculate the average call duration for each group\n",
    "duration_A = group_A['duration'].mean()\n",
    "duration_B = group_B['duration'].mean()\n",
    "\n",
    "print(\"Average call duration for Group A (telephone):\", duration_A)\n",
    "print(\"Average call duration for Group B (cellular):\", duration_B)\n",
    "\n",
    "# T-test for difference in means\n",
    "t_stat, p_value_duration = stats.ttest_ind(group_A['duration'], group_B['duration'])\n",
    "\n",
    "print(\"T-statistic:\", t_stat)\n",
    "print(\"P-value for duration difference:\", p_value_duration)\n",
    "\n",
    "if p_value_duration < alpha:\n",
    "    print(\"The difference in call duration is statistically significant.\")\n",
    "else:\n",
    "    print(\"The difference in call duration is not statistically significant.\")"
   ]
  },
  {
   "cell_type": "markdown",
   "metadata": {},
   "source": [
    "<b> conclusion 2 </b>\n",
    "\n",
    "The very low p-value here confirms a statistically significant difference in call duration between telephone and cellular contacts. Calls made to cellular numbers are, on average, longer than those to telephone numbers."
   ]
  },
  {
   "cell_type": "markdown",
   "metadata": {},
   "source": [
    "<h2 id=\"pattern_visualization\">6.  Conclusions and Recommendations </h2>"
   ]
  },
  {
   "cell_type": "markdown",
   "metadata": {},
   "source": [
    "Summarize findings and provide data-driven recommendations based on the analysis."
   ]
  },
  {
   "cell_type": "markdown",
   "metadata": {},
   "source": [
    "<b> a) Conclusions </b>\n",
    "\n",
    "* The contact method does indeed influence the likelihood of a customer subscribing to a term deposit. Given this insight, the bank may benefit from tailoring its outreach strategies depending on the contact method’s effectiveness.\n",
    "* Since longer calls typically require more resources and personnel time, it’s essential to weigh this factor in planning call campaigns. If the cellular contact method is more effective for conversion, the increased time investment might be justifiable."
   ]
  },
  {
   "cell_type": "markdown",
   "metadata": {},
   "source": [
    "<b> b) Recommendations </b>\n",
    "\n",
    "* <b>Prioritize Cellular Outreach for Higher Conversion:</b> Since the cellular contact method has a higher conversion rate, the bank could focus more of its resources on contacting customers via cellular, particularly for campaigns aimed at increasing term deposit subscriptions.\n",
    "\n",
    "* <b>Optimize Call Duration for Efficiency:</b> If cellular outreach yields better conversions but with significantly longer call durations, the bank might consider training call agents to optimize the duration without compromising the customer experience. This could maximize the conversion benefits while managing resource costs.\n",
    "\n",
    "* <b>Further Analysis on Other Variables:</b> Consider investigating additional factors, like customer demographics or loan history, to identify other patterns that could inform more personalized campaign strategies."
   ]
  },
  {
   "cell_type": "code",
   "execution_count": null,
   "metadata": {},
   "outputs": [],
   "source": []
  }
 ],
 "metadata": {
  "kernelspec": {
   "display_name": "Python 3 (ipykernel)",
   "language": "python",
   "name": "python3"
  },
  "language_info": {
   "codemirror_mode": {
    "name": "ipython",
    "version": 3
   },
   "file_extension": ".py",
   "mimetype": "text/x-python",
   "name": "python",
   "nbconvert_exporter": "python",
   "pygments_lexer": "ipython3",
   "version": "3.12.2"
  }
 },
 "nbformat": 4,
 "nbformat_minor": 4
}
