{
 "cells": [
  {
   "cell_type": "markdown",
   "metadata": {},
   "source": [
    "# Paris Housing Price - Regression"
   ]
  },
  {
   "cell_type": "markdown",
   "metadata": {},
   "source": [
    "## Overview\n"
   ]
  },
  {
   "cell_type": "markdown",
   "metadata": {},
   "source": [
    "The goal of this project is to build, compare, and optimize several regression models to predict housing prices in Paris based on property attributes. We aim to develop a model that accurately predicts prices."
   ]
  },
  {
   "cell_type": "markdown",
   "metadata": {},
   "source": [
    "## 1. Import the required libraries\n"
   ]
  },
  {
   "cell_type": "code",
   "execution_count": 1,
   "metadata": {},
   "outputs": [],
   "source": [
    "# Surpress warnings:\n",
    "def warn(*args, **kwargs):\n",
    "    pass\n",
    "import warnings\n",
    "warnings.warn = warn"
   ]
  },
  {
   "cell_type": "code",
   "execution_count": 3,
   "metadata": {},
   "outputs": [],
   "source": [
    "import pandas as pd\n",
    "import numpy as np\n",
    "import matplotlib.pyplot as plt\n",
    "import seaborn as sns\n",
    "\n",
    "from sklearn.model_selection import train_test_split, GridSearchCV\n",
    "from sklearn.preprocessing import StandardScaler\n",
    "from sklearn.metrics import mean_absolute_error, mean_squared_error, r2_score\n",
    "from sklearn.linear_model import LinearRegression, Ridge, Lasso, ElasticNet\n",
    "from sklearn.tree import DecisionTreeRegressor\n",
    "from sklearn.ensemble import RandomForestRegressor, AdaBoostRegressor\n",
    "import xgboost as xgb\n",
    "import lightgbm as lgb"
   ]
  },
  {
   "cell_type": "markdown",
   "metadata": {},
   "source": [
    "## 2. Load the data\n"
   ]
  },
  {
   "cell_type": "markdown",
   "metadata": {},
   "source": [
    "We use Pandas to load the dataset from a CSV file"
   ]
  },
  {
   "cell_type": "code",
   "execution_count": 5,
   "metadata": {},
   "outputs": [
    {
     "data": {
      "text/html": [
       "<div>\n",
       "<style scoped>\n",
       "    .dataframe tbody tr th:only-of-type {\n",
       "        vertical-align: middle;\n",
       "    }\n",
       "\n",
       "    .dataframe tbody tr th {\n",
       "        vertical-align: top;\n",
       "    }\n",
       "\n",
       "    .dataframe thead th {\n",
       "        text-align: right;\n",
       "    }\n",
       "</style>\n",
       "<table border=\"1\" class=\"dataframe\">\n",
       "  <thead>\n",
       "    <tr style=\"text-align: right;\">\n",
       "      <th></th>\n",
       "      <th>squareMeters</th>\n",
       "      <th>numberOfRooms</th>\n",
       "      <th>hasYard</th>\n",
       "      <th>hasPool</th>\n",
       "      <th>floors</th>\n",
       "      <th>cityCode</th>\n",
       "      <th>cityPartRange</th>\n",
       "      <th>numPrevOwners</th>\n",
       "      <th>made</th>\n",
       "      <th>isNewBuilt</th>\n",
       "      <th>hasStormProtector</th>\n",
       "      <th>basement</th>\n",
       "      <th>attic</th>\n",
       "      <th>garage</th>\n",
       "      <th>hasStorageRoom</th>\n",
       "      <th>hasGuestRoom</th>\n",
       "      <th>price</th>\n",
       "    </tr>\n",
       "  </thead>\n",
       "  <tbody>\n",
       "    <tr>\n",
       "      <th>0</th>\n",
       "      <td>75523</td>\n",
       "      <td>3</td>\n",
       "      <td>0</td>\n",
       "      <td>1</td>\n",
       "      <td>63</td>\n",
       "      <td>9373</td>\n",
       "      <td>3</td>\n",
       "      <td>8</td>\n",
       "      <td>2005</td>\n",
       "      <td>0</td>\n",
       "      <td>1</td>\n",
       "      <td>4313</td>\n",
       "      <td>9005</td>\n",
       "      <td>956</td>\n",
       "      <td>0</td>\n",
       "      <td>7</td>\n",
       "      <td>7559081.5</td>\n",
       "    </tr>\n",
       "    <tr>\n",
       "      <th>1</th>\n",
       "      <td>80771</td>\n",
       "      <td>39</td>\n",
       "      <td>1</td>\n",
       "      <td>1</td>\n",
       "      <td>98</td>\n",
       "      <td>39381</td>\n",
       "      <td>8</td>\n",
       "      <td>6</td>\n",
       "      <td>2015</td>\n",
       "      <td>1</td>\n",
       "      <td>0</td>\n",
       "      <td>3653</td>\n",
       "      <td>2436</td>\n",
       "      <td>128</td>\n",
       "      <td>1</td>\n",
       "      <td>2</td>\n",
       "      <td>8085989.5</td>\n",
       "    </tr>\n",
       "    <tr>\n",
       "      <th>2</th>\n",
       "      <td>55712</td>\n",
       "      <td>58</td>\n",
       "      <td>0</td>\n",
       "      <td>1</td>\n",
       "      <td>19</td>\n",
       "      <td>34457</td>\n",
       "      <td>6</td>\n",
       "      <td>8</td>\n",
       "      <td>2021</td>\n",
       "      <td>0</td>\n",
       "      <td>0</td>\n",
       "      <td>2937</td>\n",
       "      <td>8852</td>\n",
       "      <td>135</td>\n",
       "      <td>1</td>\n",
       "      <td>9</td>\n",
       "      <td>5574642.1</td>\n",
       "    </tr>\n",
       "    <tr>\n",
       "      <th>3</th>\n",
       "      <td>32316</td>\n",
       "      <td>47</td>\n",
       "      <td>0</td>\n",
       "      <td>0</td>\n",
       "      <td>6</td>\n",
       "      <td>27939</td>\n",
       "      <td>10</td>\n",
       "      <td>4</td>\n",
       "      <td>2012</td>\n",
       "      <td>0</td>\n",
       "      <td>1</td>\n",
       "      <td>659</td>\n",
       "      <td>7141</td>\n",
       "      <td>359</td>\n",
       "      <td>0</td>\n",
       "      <td>3</td>\n",
       "      <td>3232561.2</td>\n",
       "    </tr>\n",
       "    <tr>\n",
       "      <th>4</th>\n",
       "      <td>70429</td>\n",
       "      <td>19</td>\n",
       "      <td>1</td>\n",
       "      <td>1</td>\n",
       "      <td>90</td>\n",
       "      <td>38045</td>\n",
       "      <td>3</td>\n",
       "      <td>7</td>\n",
       "      <td>1990</td>\n",
       "      <td>1</td>\n",
       "      <td>0</td>\n",
       "      <td>8435</td>\n",
       "      <td>2429</td>\n",
       "      <td>292</td>\n",
       "      <td>1</td>\n",
       "      <td>4</td>\n",
       "      <td>7055052.0</td>\n",
       "    </tr>\n",
       "  </tbody>\n",
       "</table>\n",
       "</div>"
      ],
      "text/plain": [
       "   squareMeters  numberOfRooms  hasYard  hasPool  floors  cityCode  \\\n",
       "0         75523              3        0        1      63      9373   \n",
       "1         80771             39        1        1      98     39381   \n",
       "2         55712             58        0        1      19     34457   \n",
       "3         32316             47        0        0       6     27939   \n",
       "4         70429             19        1        1      90     38045   \n",
       "\n",
       "   cityPartRange  numPrevOwners  made  isNewBuilt  hasStormProtector  \\\n",
       "0              3              8  2005           0                  1   \n",
       "1              8              6  2015           1                  0   \n",
       "2              6              8  2021           0                  0   \n",
       "3             10              4  2012           0                  1   \n",
       "4              3              7  1990           1                  0   \n",
       "\n",
       "   basement  attic  garage  hasStorageRoom  hasGuestRoom      price  \n",
       "0      4313   9005     956               0             7  7559081.5  \n",
       "1      3653   2436     128               1             2  8085989.5  \n",
       "2      2937   8852     135               1             9  5574642.1  \n",
       "3       659   7141     359               0             3  3232561.2  \n",
       "4      8435   2429     292               1             4  7055052.0  "
      ]
     },
     "execution_count": 5,
     "metadata": {},
     "output_type": "execute_result"
    }
   ],
   "source": [
    "# Load the dataset\n",
    "df = pd.read_csv(\"ParisHousing.csv\")\n",
    "\n",
    "# Display the first few rows\n",
    "df.head()"
   ]
  },
  {
   "cell_type": "markdown",
   "metadata": {},
   "source": [
    "Let's inspect the types of feature columns"
   ]
  },
  {
   "cell_type": "code",
   "execution_count": 7,
   "metadata": {},
   "outputs": [
    {
     "name": "stdout",
     "output_type": "stream",
     "text": [
      "<class 'pandas.core.frame.DataFrame'>\n",
      "RangeIndex: 10000 entries, 0 to 9999\n",
      "Data columns (total 17 columns):\n",
      " #   Column             Non-Null Count  Dtype  \n",
      "---  ------             --------------  -----  \n",
      " 0   squareMeters       10000 non-null  int64  \n",
      " 1   numberOfRooms      10000 non-null  int64  \n",
      " 2   hasYard            10000 non-null  int64  \n",
      " 3   hasPool            10000 non-null  int64  \n",
      " 4   floors             10000 non-null  int64  \n",
      " 5   cityCode           10000 non-null  int64  \n",
      " 6   cityPartRange      10000 non-null  int64  \n",
      " 7   numPrevOwners      10000 non-null  int64  \n",
      " 8   made               10000 non-null  int64  \n",
      " 9   isNewBuilt         10000 non-null  int64  \n",
      " 10  hasStormProtector  10000 non-null  int64  \n",
      " 11  basement           10000 non-null  int64  \n",
      " 12  attic              10000 non-null  int64  \n",
      " 13  garage             10000 non-null  int64  \n",
      " 14  hasStorageRoom     10000 non-null  int64  \n",
      " 15  hasGuestRoom       10000 non-null  int64  \n",
      " 16  price              10000 non-null  float64\n",
      "dtypes: float64(1), int64(16)\n",
      "memory usage: 1.3 MB\n"
     ]
    }
   ],
   "source": [
    "df.info()"
   ]
  },
  {
   "cell_type": "markdown",
   "metadata": {},
   "source": [
    "## 3. Exploratory Data Analysis"
   ]
  },
  {
   "cell_type": "markdown",
   "metadata": {},
   "source": [
    "Duplicate rows can skew analysis and model training, so let check for duplicate rows"
   ]
  },
  {
   "cell_type": "code",
   "execution_count": 9,
   "metadata": {},
   "outputs": [
    {
     "name": "stdout",
     "output_type": "stream",
     "text": [
      "Number of duplicate rows: 0\n"
     ]
    }
   ],
   "source": [
    "duplicates = df.duplicated().sum()\n",
    "print(f\"Number of duplicate rows: {duplicates}\")"
   ]
  },
  {
   "cell_type": "markdown",
   "metadata": {},
   "source": [
    "We can summarize the dataset to understand its structure and characteristics."
   ]
  },
  {
   "cell_type": "code",
   "execution_count": 11,
   "metadata": {},
   "outputs": [
    {
     "data": {
      "text/html": [
       "<div>\n",
       "<style scoped>\n",
       "    .dataframe tbody tr th:only-of-type {\n",
       "        vertical-align: middle;\n",
       "    }\n",
       "\n",
       "    .dataframe tbody tr th {\n",
       "        vertical-align: top;\n",
       "    }\n",
       "\n",
       "    .dataframe thead th {\n",
       "        text-align: right;\n",
       "    }\n",
       "</style>\n",
       "<table border=\"1\" class=\"dataframe\">\n",
       "  <thead>\n",
       "    <tr style=\"text-align: right;\">\n",
       "      <th></th>\n",
       "      <th>count</th>\n",
       "      <th>mean</th>\n",
       "      <th>std</th>\n",
       "      <th>min</th>\n",
       "      <th>25%</th>\n",
       "      <th>50%</th>\n",
       "      <th>75%</th>\n",
       "      <th>max</th>\n",
       "    </tr>\n",
       "  </thead>\n",
       "  <tbody>\n",
       "    <tr>\n",
       "      <th>squareMeters</th>\n",
       "      <td>10000.0</td>\n",
       "      <td>4.987013e+04</td>\n",
       "      <td>2.877438e+04</td>\n",
       "      <td>89.0</td>\n",
       "      <td>25098.50</td>\n",
       "      <td>50105.5</td>\n",
       "      <td>74609.75</td>\n",
       "      <td>99999.0</td>\n",
       "    </tr>\n",
       "    <tr>\n",
       "      <th>numberOfRooms</th>\n",
       "      <td>10000.0</td>\n",
       "      <td>5.035840e+01</td>\n",
       "      <td>2.881670e+01</td>\n",
       "      <td>1.0</td>\n",
       "      <td>25.00</td>\n",
       "      <td>50.0</td>\n",
       "      <td>75.00</td>\n",
       "      <td>100.0</td>\n",
       "    </tr>\n",
       "    <tr>\n",
       "      <th>hasYard</th>\n",
       "      <td>10000.0</td>\n",
       "      <td>5.087000e-01</td>\n",
       "      <td>4.999493e-01</td>\n",
       "      <td>0.0</td>\n",
       "      <td>0.00</td>\n",
       "      <td>1.0</td>\n",
       "      <td>1.00</td>\n",
       "      <td>1.0</td>\n",
       "    </tr>\n",
       "    <tr>\n",
       "      <th>hasPool</th>\n",
       "      <td>10000.0</td>\n",
       "      <td>4.968000e-01</td>\n",
       "      <td>5.000148e-01</td>\n",
       "      <td>0.0</td>\n",
       "      <td>0.00</td>\n",
       "      <td>0.0</td>\n",
       "      <td>1.00</td>\n",
       "      <td>1.0</td>\n",
       "    </tr>\n",
       "    <tr>\n",
       "      <th>floors</th>\n",
       "      <td>10000.0</td>\n",
       "      <td>5.027630e+01</td>\n",
       "      <td>2.888917e+01</td>\n",
       "      <td>1.0</td>\n",
       "      <td>25.00</td>\n",
       "      <td>50.0</td>\n",
       "      <td>76.00</td>\n",
       "      <td>100.0</td>\n",
       "    </tr>\n",
       "    <tr>\n",
       "      <th>cityCode</th>\n",
       "      <td>10000.0</td>\n",
       "      <td>5.022549e+04</td>\n",
       "      <td>2.900668e+04</td>\n",
       "      <td>3.0</td>\n",
       "      <td>24693.75</td>\n",
       "      <td>50693.0</td>\n",
       "      <td>75683.25</td>\n",
       "      <td>99953.0</td>\n",
       "    </tr>\n",
       "    <tr>\n",
       "      <th>cityPartRange</th>\n",
       "      <td>10000.0</td>\n",
       "      <td>5.510100e+00</td>\n",
       "      <td>2.872024e+00</td>\n",
       "      <td>1.0</td>\n",
       "      <td>3.00</td>\n",
       "      <td>5.0</td>\n",
       "      <td>8.00</td>\n",
       "      <td>10.0</td>\n",
       "    </tr>\n",
       "    <tr>\n",
       "      <th>numPrevOwners</th>\n",
       "      <td>10000.0</td>\n",
       "      <td>5.521700e+00</td>\n",
       "      <td>2.856667e+00</td>\n",
       "      <td>1.0</td>\n",
       "      <td>3.00</td>\n",
       "      <td>5.0</td>\n",
       "      <td>8.00</td>\n",
       "      <td>10.0</td>\n",
       "    </tr>\n",
       "    <tr>\n",
       "      <th>made</th>\n",
       "      <td>10000.0</td>\n",
       "      <td>2.005488e+03</td>\n",
       "      <td>9.308090e+00</td>\n",
       "      <td>1990.0</td>\n",
       "      <td>1997.00</td>\n",
       "      <td>2005.5</td>\n",
       "      <td>2014.00</td>\n",
       "      <td>2021.0</td>\n",
       "    </tr>\n",
       "    <tr>\n",
       "      <th>isNewBuilt</th>\n",
       "      <td>10000.0</td>\n",
       "      <td>4.991000e-01</td>\n",
       "      <td>5.000242e-01</td>\n",
       "      <td>0.0</td>\n",
       "      <td>0.00</td>\n",
       "      <td>0.0</td>\n",
       "      <td>1.00</td>\n",
       "      <td>1.0</td>\n",
       "    </tr>\n",
       "    <tr>\n",
       "      <th>hasStormProtector</th>\n",
       "      <td>10000.0</td>\n",
       "      <td>4.999000e-01</td>\n",
       "      <td>5.000250e-01</td>\n",
       "      <td>0.0</td>\n",
       "      <td>0.00</td>\n",
       "      <td>0.0</td>\n",
       "      <td>1.00</td>\n",
       "      <td>1.0</td>\n",
       "    </tr>\n",
       "    <tr>\n",
       "      <th>basement</th>\n",
       "      <td>10000.0</td>\n",
       "      <td>5.033104e+03</td>\n",
       "      <td>2.876730e+03</td>\n",
       "      <td>0.0</td>\n",
       "      <td>2559.75</td>\n",
       "      <td>5092.5</td>\n",
       "      <td>7511.25</td>\n",
       "      <td>10000.0</td>\n",
       "    </tr>\n",
       "    <tr>\n",
       "      <th>attic</th>\n",
       "      <td>10000.0</td>\n",
       "      <td>5.028011e+03</td>\n",
       "      <td>2.894332e+03</td>\n",
       "      <td>1.0</td>\n",
       "      <td>2512.00</td>\n",
       "      <td>5045.0</td>\n",
       "      <td>7540.50</td>\n",
       "      <td>10000.0</td>\n",
       "    </tr>\n",
       "    <tr>\n",
       "      <th>garage</th>\n",
       "      <td>10000.0</td>\n",
       "      <td>5.531212e+02</td>\n",
       "      <td>2.620502e+02</td>\n",
       "      <td>100.0</td>\n",
       "      <td>327.75</td>\n",
       "      <td>554.0</td>\n",
       "      <td>777.25</td>\n",
       "      <td>1000.0</td>\n",
       "    </tr>\n",
       "    <tr>\n",
       "      <th>hasStorageRoom</th>\n",
       "      <td>10000.0</td>\n",
       "      <td>5.030000e-01</td>\n",
       "      <td>5.000160e-01</td>\n",
       "      <td>0.0</td>\n",
       "      <td>0.00</td>\n",
       "      <td>1.0</td>\n",
       "      <td>1.00</td>\n",
       "      <td>1.0</td>\n",
       "    </tr>\n",
       "    <tr>\n",
       "      <th>hasGuestRoom</th>\n",
       "      <td>10000.0</td>\n",
       "      <td>4.994600e+00</td>\n",
       "      <td>3.176410e+00</td>\n",
       "      <td>0.0</td>\n",
       "      <td>2.00</td>\n",
       "      <td>5.0</td>\n",
       "      <td>8.00</td>\n",
       "      <td>10.0</td>\n",
       "    </tr>\n",
       "    <tr>\n",
       "      <th>price</th>\n",
       "      <td>10000.0</td>\n",
       "      <td>4.993448e+06</td>\n",
       "      <td>2.877424e+06</td>\n",
       "      <td>10313.5</td>\n",
       "      <td>2516401.95</td>\n",
       "      <td>5016180.3</td>\n",
       "      <td>7469092.45</td>\n",
       "      <td>10006771.2</td>\n",
       "    </tr>\n",
       "  </tbody>\n",
       "</table>\n",
       "</div>"
      ],
      "text/plain": [
       "                     count          mean           std      min         25%  \\\n",
       "squareMeters       10000.0  4.987013e+04  2.877438e+04     89.0    25098.50   \n",
       "numberOfRooms      10000.0  5.035840e+01  2.881670e+01      1.0       25.00   \n",
       "hasYard            10000.0  5.087000e-01  4.999493e-01      0.0        0.00   \n",
       "hasPool            10000.0  4.968000e-01  5.000148e-01      0.0        0.00   \n",
       "floors             10000.0  5.027630e+01  2.888917e+01      1.0       25.00   \n",
       "cityCode           10000.0  5.022549e+04  2.900668e+04      3.0    24693.75   \n",
       "cityPartRange      10000.0  5.510100e+00  2.872024e+00      1.0        3.00   \n",
       "numPrevOwners      10000.0  5.521700e+00  2.856667e+00      1.0        3.00   \n",
       "made               10000.0  2.005488e+03  9.308090e+00   1990.0     1997.00   \n",
       "isNewBuilt         10000.0  4.991000e-01  5.000242e-01      0.0        0.00   \n",
       "hasStormProtector  10000.0  4.999000e-01  5.000250e-01      0.0        0.00   \n",
       "basement           10000.0  5.033104e+03  2.876730e+03      0.0     2559.75   \n",
       "attic              10000.0  5.028011e+03  2.894332e+03      1.0     2512.00   \n",
       "garage             10000.0  5.531212e+02  2.620502e+02    100.0      327.75   \n",
       "hasStorageRoom     10000.0  5.030000e-01  5.000160e-01      0.0        0.00   \n",
       "hasGuestRoom       10000.0  4.994600e+00  3.176410e+00      0.0        2.00   \n",
       "price              10000.0  4.993448e+06  2.877424e+06  10313.5  2516401.95   \n",
       "\n",
       "                         50%         75%         max  \n",
       "squareMeters         50105.5    74609.75     99999.0  \n",
       "numberOfRooms           50.0       75.00       100.0  \n",
       "hasYard                  1.0        1.00         1.0  \n",
       "hasPool                  0.0        1.00         1.0  \n",
       "floors                  50.0       76.00       100.0  \n",
       "cityCode             50693.0    75683.25     99953.0  \n",
       "cityPartRange            5.0        8.00        10.0  \n",
       "numPrevOwners            5.0        8.00        10.0  \n",
       "made                  2005.5     2014.00      2021.0  \n",
       "isNewBuilt               0.0        1.00         1.0  \n",
       "hasStormProtector        0.0        1.00         1.0  \n",
       "basement              5092.5     7511.25     10000.0  \n",
       "attic                 5045.0     7540.50     10000.0  \n",
       "garage                 554.0      777.25      1000.0  \n",
       "hasStorageRoom           1.0        1.00         1.0  \n",
       "hasGuestRoom             5.0        8.00        10.0  \n",
       "price              5016180.3  7469092.45  10006771.2  "
      ]
     },
     "execution_count": 11,
     "metadata": {},
     "output_type": "execute_result"
    }
   ],
   "source": [
    "# Summary statistics\n",
    "df.describe().T"
   ]
  },
  {
   "cell_type": "markdown",
   "metadata": {},
   "source": [
    "Let show correlation between different features and target variable (price)"
   ]
  },
  {
   "cell_type": "code",
   "execution_count": 13,
   "metadata": {},
   "outputs": [
    {
     "name": "stdout",
     "output_type": "stream",
     "text": [
      "price                1.000000\n",
      "squareMeters         0.999999\n",
      "numPrevOwners        0.016619\n",
      "numberOfRooms        0.009591\n",
      "cityPartRange        0.008813\n",
      "hasStormProtector    0.007496\n",
      "floors               0.001654\n",
      "attic               -0.000600\n",
      "hasGuestRoom        -0.000644\n",
      "cityCode            -0.001539\n",
      "hasStorageRoom      -0.003485\n",
      "basement            -0.003967\n",
      "hasPool             -0.005070\n",
      "hasYard             -0.006119\n",
      "made                -0.007210\n",
      "isNewBuilt          -0.010643\n",
      "garage              -0.017229\n",
      "Name: price, dtype: float64\n"
     ]
    }
   ],
   "source": [
    "# Correlation matrix\n",
    "correlation_matrix = df.corr()\n",
    "\n",
    "# Printing correlation values for more insight\n",
    "high_correlation = correlation_matrix['price'].sort_values(ascending=False)\n",
    "print(high_correlation)"
   ]
  },
  {
   "cell_type": "markdown",
   "metadata": {},
   "source": [
    "The price of the houses shows an extremely strong positive correlation with square meters (0.999999), indicating that larger properties significantly influence the price, while other features such as the number of previous owners, number of rooms, and amenities show negligible correlations, suggesting they have minimal impact on the house price"
   ]
  },
  {
   "cell_type": "code",
   "execution_count": 15,
   "metadata": {},
   "outputs": [
    {
     "data": {
      "image/png": "[encoded data removed]",
      "text/plain": [
       "<Figure size 600x400 with 1 Axes>"
      ]
     },
     "metadata": {},
     "output_type": "display_data"
    },
    {
     "data": {
      "image/png": "[encoded data removed]",
      "text/plain": [
       "<Figure size 600x400 with 1 Axes>"
      ]
     },
     "metadata": {},
     "output_type": "display_data"
    }
   ],
   "source": [
    "# Distribution of price\n",
    "plt.figure(figsize=(6, 4))\n",
    "sns.histplot(df['price'], kde=True)\n",
    "plt.title('Distribution of House Prices')\n",
    "plt.xlabel('Price')\n",
    "plt.ylabel('Frequency')\n",
    "plt.show()\n",
    "\n",
    "# Scatter plot of square meters vs price\n",
    "plt.figure(figsize=(6, 4))\n",
    "sns.scatterplot(data=df, x='squareMeters', y='price')\n",
    "plt.title('Price vs Square Meters')\n",
    "plt.xlabel('Square Meters')\n",
    "plt.ylabel('Price')\n",
    "plt.show()"
   ]
  },
  {
   "cell_type": "markdown",
   "metadata": {},
   "source": [
    "## 4. Data Preprocessing\n"
   ]
  },
  {
   "cell_type": "markdown",
   "metadata": {},
   "source": [
    "Here, we will perform several essential steps to preprocess the dataset before we build our regression models."
   ]
  },
  {
   "cell_type": "markdown",
   "metadata": {},
   "source": [
    "We need to standardize the features using StandardScaler, which is essential for models sensitive to feature scales."
   ]
  },
  {
   "cell_type": "code",
   "execution_count": 17,
   "metadata": {},
   "outputs": [],
   "source": [
    "# Define features (X) and target variable (y)\n",
    "X = df.drop('price', axis=1)     # Drop the target variable from features\n",
    "y = df['price']                  # Target variable\n",
    "\n",
    "# Split the data into training and testing sets\n",
    "X_train, X_test, y_train, y_test = train_test_split(X, y, test_size=0.2, random_state=10)\n",
    "\n",
    "# Fit the scaler on the training data and transform both training and testing data\n",
    "scaler = StandardScaler()\n",
    "X_train = scaler.fit_transform(X_train)\n",
    "X_test = scaler.transform(X_test)"
   ]
  },
  {
   "cell_type": "markdown",
   "metadata": {},
   "source": [
    "## 5. Model Development"
   ]
  },
  {
   "cell_type": "markdown",
   "metadata": {},
   "source": [
    "we will build various regression models to predict house prices using the features from our dataset. Each model will be evaluated based on performance metrics such as Mean Absolute Error (MAE), Mean Squared Error (MSE), and R² score."
   ]
  },
  {
   "cell_type": "markdown",
   "metadata": {},
   "source": [
    "### a) Linear Regression\n"
   ]
  },
  {
   "cell_type": "markdown",
   "metadata": {},
   "source": [
    "We will build a simple and multiple linear regression model and evaluate their performance."
   ]
  },
  {
   "cell_type": "code",
   "execution_count": 23,
   "metadata": {},
   "outputs": [],
   "source": [
    "# Simple Linear Regression (using only squareMeters as an example)\n",
    "simple_lr = LinearRegression()\n",
    "simple_lr.fit(X_train[:, 0].reshape(-1, 1), y_train)  # squareMeters is the first feature\n",
    "\n",
    "# Multiple Linear Regression\n",
    "multi_lr = LinearRegression()\n",
    "multi_lr.fit(X_train, y_train)\n",
    "\n",
    "# Predictions\n",
    "y_pred_simple = simple_lr.predict(X_test[:, 0].reshape(-1, 1))\n",
    "y_pred_multi = multi_lr.predict(X_test)"
   ]
  },
  {
   "cell_type": "markdown",
   "metadata": {},
   "source": [
    "### b) Ridge and Lasso Regression "
   ]
  },
  {
   "cell_type": "markdown",
   "metadata": {},
   "source": [
    "We implement Ridge and Lasso regression to evaluate the effect of regularization."
   ]
  },
  {
   "cell_type": "code",
   "execution_count": 25,
   "metadata": {},
   "outputs": [],
   "source": [
    "# Ridge Regression\n",
    "ridge = Ridge(alpha=1.0)\n",
    "ridge.fit(X_train, y_train)\n",
    "y_pred_ridge = ridge.predict(X_test)\n",
    "\n",
    "# Lasso Regression\n",
    "lasso = Lasso(alpha=0.1)\n",
    "lasso.fit(X_train, y_train)\n",
    "y_pred_lasso = lasso.predict(X_test)"
   ]
  },
  {
   "cell_type": "markdown",
   "metadata": {},
   "source": [
    "### c) ElasticNet Regression "
   ]
  },
  {
   "cell_type": "markdown",
   "metadata": {},
   "source": [
    "We use ElasticNet for combined regularization."
   ]
  },
  {
   "cell_type": "code",
   "execution_count": 27,
   "metadata": {},
   "outputs": [],
   "source": [
    "elastic_net = ElasticNet(alpha=0.1, l1_ratio=0.5)\n",
    "elastic_net.fit(X_train, y_train)\n",
    "y_pred_en = elastic_net.predict(X_test)"
   ]
  },
  {
   "cell_type": "markdown",
   "metadata": {},
   "source": [
    "### d) Tree-based Models "
   ]
  },
  {
   "cell_type": "markdown",
   "metadata": {},
   "source": [
    "we implement tree-based models for better performance with complex relationships."
   ]
  },
  {
   "cell_type": "code",
   "execution_count": 29,
   "metadata": {},
   "outputs": [
    {
     "name": "stdout",
     "output_type": "stream",
     "text": [
      "[LightGBM] [Info] Auto-choosing row-wise multi-threading, the overhead of testing was 0.000373 seconds.\n",
      "You can set `force_row_wise=true` to remove the overhead.\n",
      "And if memory is not enough, you can set `force_col_wise=true`.\n",
      "[LightGBM] [Info] Total Bins 1559\n",
      "[LightGBM] [Info] Number of data points in the train set: 8000, number of used features: 16\n",
      "[LightGBM] [Info] Start training from score 4983487.875492\n"
     ]
    }
   ],
   "source": [
    "# Decision Tree\n",
    "dt = DecisionTreeRegressor()\n",
    "dt.fit(X_train, y_train)\n",
    "y_pred_dt = dt.predict(X_test)\n",
    "\n",
    "# Random Forest\n",
    "rf = RandomForestRegressor(n_estimators=100)\n",
    "rf.fit(X_train, y_train)\n",
    "y_pred_rf = rf.predict(X_test)\n",
    "\n",
    "# AdaBoost\n",
    "ada = AdaBoostRegressor(n_estimators=100)\n",
    "ada.fit(X_train, y_train)\n",
    "y_pred_ada = ada.predict(X_test)\n",
    "\n",
    "# XGBoost\n",
    "xgb_model = xgb.XGBRegressor()\n",
    "xgb_model.fit(X_train, y_train)\n",
    "y_pred_xgb = xgb_model.predict(X_test)\n",
    "\n",
    "# LightGBM\n",
    "lgb_model = lgb.LGBMRegressor()\n",
    "lgb_model.fit(X_train, y_train)\n",
    "y_pred_lgb = lgb_model.predict(X_test)"
   ]
  },
  {
   "cell_type": "markdown",
   "metadata": {},
   "source": [
    "## 6.  Model Comparison and Optimization"
   ]
  },
  {
   "cell_type": "markdown",
   "metadata": {},
   "source": [
    "To compare the models, we will calculate and display these metrics for each model in a structured way, making it easy to identify which model performed best overall"
   ]
  },
  {
   "cell_type": "code",
   "execution_count": 31,
   "metadata": {},
   "outputs": [
    {
     "name": "stdout",
     "output_type": "stream",
     "text": [
      "                        Model            MAE           MSE       R^2\n",
      "0  Multiple Linear Regression    1521.684874  3.761171e+06  1.000000\n",
      "1            Ridge Regression    1549.036249  3.881652e+06  1.000000\n",
      "2            Lasso Regression    1521.649275  3.761082e+06  1.000000\n",
      "3       ElasticNet Regression  116689.410923  1.857683e+10  0.997719\n",
      "4               Decision Tree    4422.475400  3.101937e+07  0.999996\n",
      "5               Random Forest    3230.368247  1.619814e+07  0.999998\n",
      "6                    AdaBoost  311170.767320  1.287546e+11  0.984190\n",
      "7                     XGBoost   11869.838767  2.078507e+08  0.999974\n",
      "8                    LightGBM   10548.340376  1.539784e+08  0.999981\n"
     ]
    }
   ],
   "source": [
    "# Collecting evaluation metrics for all models\n",
    "results = {\n",
    "    'Model': [],\n",
    "    'MAE': [],\n",
    "    'MSE': [],\n",
    "    'R^2': []\n",
    "}\n",
    "\n",
    "# Function to evaluate model\n",
    "def evaluate_model(model, X_test, y_test, model_name):\n",
    "    y_pred = model.predict(X_test)\n",
    "    mae = mean_absolute_error(y_test, y_pred)\n",
    "    mse = mean_squared_error(y_test, y_pred)\n",
    "    r2 = r2_score(y_test, y_pred)\n",
    "    \n",
    "    results['Model'].append(model_name)\n",
    "    results['MAE'].append(mae)\n",
    "    results['MSE'].append(mse)\n",
    "    results['R^2'].append(r2)\n",
    "\n",
    "# Evaluate each model\n",
    "evaluate_model(multi_lr, X_test, y_test, 'Multiple Linear Regression')\n",
    "evaluate_model(ridge, X_test, y_test, 'Ridge Regression')\n",
    "evaluate_model(lasso, X_test, y_test, 'Lasso Regression')\n",
    "evaluate_model(elastic_net, X_test, y_test, 'ElasticNet Regression')\n",
    "evaluate_model(dt, X_test, y_test, 'Decision Tree')\n",
    "evaluate_model(rf, X_test, y_test, 'Random Forest')\n",
    "evaluate_model(ada, X_test, y_test, 'AdaBoost')\n",
    "evaluate_model(xgb_model, X_test, y_test, 'XGBoost')\n",
    "evaluate_model(lgb_model, X_test, y_test, 'LightGBM')\n",
    "\n",
    "# Create a DataFrame to present the results\n",
    "comparison_df = pd.DataFrame(results)\n",
    "print(comparison_df)"
   ]
  },
  {
   "cell_type": "markdown",
   "metadata": {},
   "source": [
    "<b> Interpretation: </b>\n",
    "\n",
    " - The best-performing models based on error metrics are:\n",
    "<ul>\n",
    " <li> <b>Random Forest:</b> MAE = 3,223.39, MSE = 16.12M, 𝑅^2 = 0.999998.</li>\n",
    " <li> <b>Decision Tree:</b> MAE = 4,496.37, MSE = 31.79M, 𝑅^2 = 0.999996.</li>\n",
    "</ul>\n",
    "\n",
    " - Linear models with regularization (Ridge and Lasso) perform very closely to the Multiple Linear Regression, which indicates that these models are sufficient if a simple, interpretable model is required.\n",
    "\n",
    "- <b>Boosting Models:</b>\n",
    "<ul>\n",
    "<li>XGBoost</b> and <b>LightGBM</b> show good results, though their MAE and MSE are higher than Random Forest. Given that these models are optimized for handling large datasets and complex patterns, they might still provide value, especially after further tuning. </li>\n",
    "<li> <b>AdaBoost has a high error, which suggests it may not be ideal for this dataset.</li>\n",
    "</ul>\n",
    "\n",
    "- <b>ElasticNet Regression:</b> This model shows a significantly higher error compared to others, indicating it may not be well-suited for this data due to its combination of Lasso and Ridge penalties."
   ]
  },
  {
   "cell_type": "markdown",
   "metadata": {},
   "source": [
    "Once we have an understanding of the performance of each model, we can focus on <b> hyperparameter tuning</b>, especially for more complex models like Random Forest, XGBoost, and LightGBM. <b>Hyperparameter tuning</b> is the process of optimizing the parameters that control the learning process of the model to improve performance."
   ]
  },
  {
   "cell_type": "code",
   "execution_count": 33,
   "metadata": {},
   "outputs": [
    {
     "name": "stdout",
     "output_type": "stream",
     "text": [
      "Best parameters for Random Forest: {'max_depth': None, 'min_samples_split': 2, 'n_estimators': 200}\n",
      "Best MAE score from Grid Search: 3172.52182987512\n"
     ]
    }
   ],
   "source": [
    "# Define parameter grid for Random Forest\n",
    "param_grid = {\n",
    "    'n_estimators': [50, 100, 200],\n",
    "    'max_depth': [None, 10, 20, 30],\n",
    "    'min_samples_split': [2, 5, 10]\n",
    "}\n",
    "\n",
    "# Initialize the model\n",
    "rf_model = RandomForestRegressor()\n",
    "\n",
    "# Set up the grid search\n",
    "grid_search = GridSearchCV(estimator=rf_model, param_grid=param_grid, cv=5, scoring='neg_mean_absolute_error', return_train_score=True)\n",
    "\n",
    "# Fit the model to the training data\n",
    "grid_search.fit(X_train, y_train)\n",
    "\n",
    "# Get the best parameters and the corresponding score\n",
    "best_params = grid_search.best_params_\n",
    "best_score = -grid_search.best_score_\n",
    "\n",
    "print(\"Best parameters for Random Forest:\", best_params)\n",
    "print(\"Best MAE score from Grid Search:\", best_score)"
   ]
  },
  {
   "cell_type": "markdown",
   "metadata": {},
   "source": [
    "The Random Forest model achieved a MAE of 3,171.34, indicating an improvement in accuracy. This further solidifies Random Forest as the best-performing model for this dataset."
   ]
  },
  {
   "cell_type": "markdown",
   "metadata": {},
   "source": [
    "## 7. Conclusion"
   ]
  },
  {
   "cell_type": "markdown",
   "metadata": {},
   "source": [
    "This project successfully explored various regression models for predicting housing prices in Paris. After analyzing several algorithms, the Random Forest model emerged as the best performer with low MAE, MSE, and a near-perfect 𝑅^2. Hyperparameter tuning further improved this model’s accuracy, making it a robust choice for our deployment objectives. Additionally, models like XGBoost and LightGBM showed strong potential and could serve as effective alternatives if further tuned. Ultimately, the insights gained through this model can support more accurate, data-driven decisions in real estate pricing and forecasting.\n",
    "\n",
    "Key findings include:\n",
    "\n",
    "* Linear Regression and Regularized Models (Ridge, Lasso): Provided a strong baseline with interpretable coefficients but limited complexity for intricate patterns.\n",
    "\n",
    "* Ensemble Models (Random Forest, Decision Tree): These models handled the non-linear relationships in the data very well, with Random Forest achieving the best predictive performance.\n",
    "\n",
    "* Boosting Models (XGBoost, LightGBM): These performed competitively and may outperform with more tuning, especially when larger datasets become available.\n"
   ]
  },
  {
   "cell_type": "markdown",
   "metadata": {},
   "source": [
    "The current dataset is synthetic and limited in scope. Expanding the dataset with real-world data from diverse sources would likely improve model robustness and generalization. High-quality, large-scale data with additional features (e.g., neighborhood amenities, transport accessibility) could provide further predictive power."
   ]
  }
 ],
 "metadata": {
  "kernelspec": {
   "display_name": "Python 3 (ipykernel)",
   "language": "python",
   "name": "python3"
  },
  "language_info": {
   "codemirror_mode": {
    "name": "ipython",
    "version": 3
   },
   "file_extension": ".py",
   "mimetype": "text/x-python",
   "name": "python",
   "nbconvert_exporter": "python",
   "pygments_lexer": "ipython3",
   "version": "3.12.2"
  },
  "prev_pub_hash": "b45b938fc7420206c5fa3f040f896f2a578fd1045d763cf82b4c02f8772d2aee"
 },
 "nbformat": 4,
 "nbformat_minor": 4
}
